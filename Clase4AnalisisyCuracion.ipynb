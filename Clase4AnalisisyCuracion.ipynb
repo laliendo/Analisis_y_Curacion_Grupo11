{
  "nbformat": 4,
  "nbformat_minor": 0,
  "metadata": {
    "colab": {
      "name": "Clase4AnalisisyCuracion.ipynb",
      "provenance": []
    },
    "kernelspec": {
      "name": "python3",
      "display_name": "Python 3"
    }
  },
  "cells": [
    {
      "cell_type": "code",
      "metadata": {
        "id": "-qgTEavsSJ9Z",
        "colab_type": "code",
        "colab": {
          "base_uri": "https://localhost:8080/",
          "height": 191
        },
        "outputId": "d1f176cb-87b0-487b-ebfa-8f5b1fe68dbc"
      },
      "source": [
        "!pip install feedparser\n",
        "\n",
        "import bs4\n",
        "import feedparser\n",
        "from slugify import slugify\n",
        "import os"
      ],
      "execution_count": null,
      "outputs": [
        {
          "output_type": "stream",
          "text": [
            "Collecting feedparser\n",
            "\u001b[?25l  Downloading https://files.pythonhosted.org/packages/91/d8/7d37fec71ff7c9dbcdd80d2b48bcdd86d6af502156fc93846fb0102cb2c4/feedparser-5.2.1.tar.bz2 (192kB)\n",
            "\r\u001b[K     |█▊                              | 10kB 18.5MB/s eta 0:00:01\r\u001b[K     |███▍                            | 20kB 1.7MB/s eta 0:00:01\r\u001b[K     |█████▏                          | 30kB 2.3MB/s eta 0:00:01\r\u001b[K     |██████▉                         | 40kB 2.5MB/s eta 0:00:01\r\u001b[K     |████████▌                       | 51kB 2.0MB/s eta 0:00:01\r\u001b[K     |██████████▎                     | 61kB 2.3MB/s eta 0:00:01\r\u001b[K     |████████████                    | 71kB 2.5MB/s eta 0:00:01\r\u001b[K     |█████████████▋                  | 81kB 2.7MB/s eta 0:00:01\r\u001b[K     |███████████████▍                | 92kB 2.9MB/s eta 0:00:01\r\u001b[K     |█████████████████               | 102kB 2.8MB/s eta 0:00:01\r\u001b[K     |██████████████████▊             | 112kB 2.8MB/s eta 0:00:01\r\u001b[K     |████████████████████▌           | 122kB 2.8MB/s eta 0:00:01\r\u001b[K     |██████████████████████▏         | 133kB 2.8MB/s eta 0:00:01\r\u001b[K     |███████████████████████▉        | 143kB 2.8MB/s eta 0:00:01\r\u001b[K     |█████████████████████████▋      | 153kB 2.8MB/s eta 0:00:01\r\u001b[K     |███████████████████████████▎    | 163kB 2.8MB/s eta 0:00:01\r\u001b[K     |█████████████████████████████   | 174kB 2.8MB/s eta 0:00:01\r\u001b[K     |██████████████████████████████▊ | 184kB 2.8MB/s eta 0:00:01\r\u001b[K     |████████████████████████████████| 194kB 2.8MB/s \n",
            "\u001b[?25hBuilding wheels for collected packages: feedparser\n",
            "  Building wheel for feedparser (setup.py) ... \u001b[?25l\u001b[?25hdone\n",
            "  Created wheel for feedparser: filename=feedparser-5.2.1-cp36-none-any.whl size=44940 sha256=75af6b402e8749a56d1b571908be870e2dfcd49196b51b7348cd5c0b4f457cd9\n",
            "  Stored in directory: /root/.cache/pip/wheels/8c/69/b7/f52763c41c5471df57703a0ef718a32a5e81ee35dcf6d4f97f\n",
            "Successfully built feedparser\n",
            "Installing collected packages: feedparser\n",
            "Successfully installed feedparser-5.2.1\n"
          ],
          "name": "stdout"
        }
      ]
    },
    {
      "cell_type": "code",
      "metadata": {
        "id": "pLJX-WzvSVIh",
        "colab_type": "code",
        "colab": {}
      },
      "source": [
        "feeds = ['https://www.lavoz.com.ar/rss/tecnologia.xml']"
      ],
      "execution_count": null,
      "outputs": []
    },
    {
      "cell_type": "code",
      "metadata": {
        "id": "tZcqvzTaUtsl",
        "colab_type": "code",
        "colab": {}
      },
      "source": [
        "parsed = feedparser.parse(feeds[0])"
      ],
      "execution_count": null,
      "outputs": []
    },
    {
      "cell_type": "code",
      "metadata": {
        "id": "9gHudi8wUv7R",
        "colab_type": "code",
        "colab": {}
      },
      "source": [
        "posts = parsed.entries"
      ],
      "execution_count": null,
      "outputs": []
    },
    {
      "cell_type": "code",
      "metadata": {
        "id": "cMHfl10rU3Kl",
        "colab_type": "code",
        "colab": {
          "base_uri": "https://localhost:8080/",
          "height": 541
        },
        "outputId": "1b856b1e-48c5-4e50-e9e3-195981cb4587"
      },
      "source": [
        "posts[1]"
      ],
      "execution_count": null,
      "outputs": [
        {
          "output_type": "execute_result",
          "data": {
            "text/plain": [
              "{'author': 'LaVoz.com.ar | Tecnología',\n",
              " 'author_detail': {'name': 'LaVoz.com.ar | Tecnología'},\n",
              " 'authors': [{'name': 'LaVoz.com.ar | Tecnología'}],\n",
              " 'content': [{'base': 'https://www.lavoz.com.ar/rss/tecnologia.xml',\n",
              "   'language': None,\n",
              "   'type': 'text/html',\n",
              "   'value': '<p>Cada día utilizamos los emojis para expresar una idea o una emoción junto con nuestro mensaje de texto y se han convertido en símbolos habituales en nuestra comunicación diaria.</p>\\n        <p>Los emojis fueron creados en 1998 por el diseñador japonés Shigetaka Kurita cuando trabajaba para <a href=\"https://www.nttdocomo.co.jp/english/\" target=\"_blank\">NTT DoCoMo</a>, una de las operadoras de telefonía móvil más importantes de Japón.</p>\\n        <p>Debido a la importancia que han alcanzado estos símbolos en nuestro día a día, así como en la forma de comunicarnos, cada 17 de julio desde 2014 se celebra el Día Mundial del Emoji.</p>\\n        <p class=\"TextoDestacado\">De hecho, se calcula que alrededor de un 4,6 por ciento de los mensajes que intercambiamos a través de Internet contienen al menos un emoji, según datos publicados por <a href=\"https://www.microsoft.com/es-mx/swiftkey?activetab=pivot_1%3aprimaryr2\" target=\"_blank\">SwiftKey</a>.</p>\\n        <p>Además, la plataforma Facebook Messenger afirma que sus usuarios envían 5.000 millones de emojis cada día.</p>\\n        <p>Los emojis, que suelen confundirse con los emoticones, han ido evolucionando desde su creación y logran expresar otros conceptos además de las emociones, como fenómenos climatológicos, deportes o animales.</p>\\n        <p>Destacan por su uso intuitivo. Sin que nadie se lo enseñara, los usuarios conocen perfectamente qué quiere decir una persona al utilizar un emoji concreto. Sin embargo, el significado de estos pequeños símbolos puede variar según el contexto cultural.</p>\\n        <p class=\"SubTitulo\">Por ejemplo:</p>\\n        <ul>\\n            <li>\\n                <strong>El emoji de la cara sonriente, uno de los más utilizados, en China tiene un significado bastante diferente al empleado, por ejemplo, en España. En China este emoji no representa felicidad o alegría, sino desconfianza e incluso incredulidad.</strong>\\n            </li>\\n        </ul>\\n        <p>\\n        </p>\\n        <p>\\xa0</p>\\n        <ul>\\n            <li>\\n                <strong>Mientras en España se emplea el emoji de los aplausos para mostrar apoyo a algo o dar la enhorabuena, en China simboliza el hecho de mantener relaciones sexuales.</strong>\\n            </li>\\n        </ul>\\n        <p>\\n        </p>\\n        <p>\\xa0</p>\\n        <ul>\\n            <li>\\n                <strong>El símbolo utilizado generalmente para saludar o despedirse, en China puede significar el final de una relación amorosa o de una amistad.</strong>\\n            </li>\\n        </ul>\\n        <p>\\n        </p>\\n        <p>\\xa0</p>\\n        <ul>\\n            <li>\\n                <strong>Otro emoji que puede llevar a la confusión es el de la carita sonriente con una aureola, que suele representar inocencia, así como una oración o bendición, esto último especialmente en Estados Unidos y América Latina. Pero en China, este emoji representa la muerte y puede llegar a interpretarse como una amenaza encubierta.</strong>\\n            </li>\\n        </ul>\\n        <p>\\n        </p>\\n        <p>\\xa0</p>\\n        <ul>\\n            <li>\\n                <strong>La mano con el signo de los cuernos, que originalmente era utilizada por los amantes de la música rock para simbolizar la expresión \"rock on\", existía ya en la Antigua Grecia, donde significaba \"ser cornudo\", algo que se ha mantenido en España, así como en Italia o República Checa.</strong>\\n            </li>\\n        </ul>\\n        <p>\\n        </p>\\n        <p>\\xa0</p>\\n        <ul>\\n            <li>\\n                <strong>En Japón, según el contexto, el emoji del excremento se refiere al concepto japonés \"Kin No Unko\" que significa literalmente \"caca de oro\" y puede significar buena suerte, algo que puede corresponder a la expresión española \"mucha mierda\".</strong>\\n            </li>\\n        </ul>\\n        <p>\\n        </p>\\n        <ul>\\n            <li>\\n                <strong>Por último, otro emoji que puede llevar a la confusión es el de una mano que hace un círculo con los dedos pulgar e índice y que representa las palabras \"ok\" o \"vale\". En algunos países, como en Brasil, este símbolo puede llegar a ser tan insultante como un corte de mangas en España.</strong>\\n            </li>\\n        </ul>\\n        <p>\\n        </p>\\n        <p>\\xa0</p>\\n        <ul>\\n            <li>\\n                <strong>En cuanto a datos curiosos en España los usuarios utilizan el emoji del cono festivo hasta un 72 por ciento más que en otros países, mientras los franceses usan el emoji del corazón mucho más a menudo que los españoles o los usuarios de otros países.</strong>\\n            </li>\\n        </ul>\\n        <p>\\n        </p>\\n        <section class=\"type:slideshow\">\\n            <figure>\\n                <img src=\"https://cdn.lavoz.com.ar/sites/default/files/nota_periodistica/emoji_day_1594987032.jpg\">\\n                <figcaption>emoji_day_1594987032.jpg</figcaption>\\n            </figure>\\n        </section>'}],\n",
              " 'guidislink': False,\n",
              " 'id': 'https://www.lavoz.com.ar/tecnologia/dia-mundial-del-emoji-cuales-son-sus-significados-segun-contexto-cultural',\n",
              " 'link': 'https://www.lavoz.com.ar/tecnologia/dia-mundial-del-emoji-cuales-son-sus-significados-segun-contexto-cultural',\n",
              " 'links': [{'href': 'https://www.lavoz.com.ar/tecnologia/dia-mundial-del-emoji-cuales-son-sus-significados-segun-contexto-cultural',\n",
              "   'rel': 'alternate',\n",
              "   'type': 'text/html'},\n",
              "  {'href': 'https://cdn.lavoz.com.ar/sites/default/files/nota_periodistica/emoji_day_1594987032.jpg',\n",
              "   'length': '0',\n",
              "   'rel': 'enclosure',\n",
              "   'type': 'image/jpg'}],\n",
              " 'published': 'Fri, 17 Jul 2020 08:58:30 -0300',\n",
              " 'published_parsed': time.struct_time(tm_year=2020, tm_mon=7, tm_mday=17, tm_hour=11, tm_min=58, tm_sec=30, tm_wday=4, tm_yday=199, tm_isdst=0),\n",
              " 'summary': 'La prueba de que un emoji, a veces, no vale más que mil palabras y puede querer decir cosas distintas.\\n        Cada día utilizamos los emojis para expresar una idea o una emoción junto con nuestro mensaje de texto y se han convertido en símbolos habituales en nuestra comunicación diaria.',\n",
              " 'summary_detail': {'base': 'https://www.lavoz.com.ar/rss/tecnologia.xml',\n",
              "  'language': None,\n",
              "  'type': 'text/html',\n",
              "  'value': 'La prueba de que un emoji, a veces, no vale más que mil palabras y puede querer decir cosas distintas.\\n        Cada día utilizamos los emojis para expresar una idea o una emoción junto con nuestro mensaje de texto y se han convertido en símbolos habituales en nuestra comunicación diaria.'},\n",
              " 'title': 'Día Mundial del Emoji: cuáles son sus significados según el contexto cultural',\n",
              " 'title_detail': {'base': 'https://www.lavoz.com.ar/rss/tecnologia.xml',\n",
              "  'language': None,\n",
              "  'type': 'text/plain',\n",
              "  'value': 'Día Mundial del Emoji: cuáles son sus significados según el contexto cultural'}}"
            ]
          },
          "metadata": {
            "tags": []
          },
          "execution_count": 6
        }
      ]
    },
    {
      "cell_type": "code",
      "metadata": {
        "id": "B8zA4QkvV1EG",
        "colab_type": "code",
        "colab": {
          "base_uri": "https://localhost:8080/",
          "height": 35
        },
        "outputId": "49b85057-24ba-40f1-a9bd-bf28fbe12a30"
      },
      "source": [
        "posts[0].title"
      ],
      "execution_count": null,
      "outputs": [
        {
          "output_type": "execute_result",
          "data": {
            "application/vnd.google.colaboratory.intrinsic": {
              "type": "string"
            },
            "text/plain": [
              "'Tamales, montoncito de dedos y trans: estos son los nuevos emojis que llegan a iPhone en septiembre'"
            ]
          },
          "metadata": {
            "tags": []
          },
          "execution_count": 7
        }
      ]
    },
    {
      "cell_type": "code",
      "metadata": {
        "id": "pd8IwAWKV30r",
        "colab_type": "code",
        "colab": {
          "base_uri": "https://localhost:8080/",
          "height": 35
        },
        "outputId": "a08a4604-c4fa-43c4-92a0-105000aabac1"
      },
      "source": [
        "posts[0].author"
      ],
      "execution_count": null,
      "outputs": [
        {
          "output_type": "execute_result",
          "data": {
            "application/vnd.google.colaboratory.intrinsic": {
              "type": "string"
            },
            "text/plain": [
              "'LaVoz.com.ar | Tecnología'"
            ]
          },
          "metadata": {
            "tags": []
          },
          "execution_count": 8
        }
      ]
    },
    {
      "cell_type": "code",
      "metadata": {
        "id": "NsA0LyT6VNby",
        "colab_type": "code",
        "colab": {}
      },
      "source": [
        "html = posts[0].content[0].get('value')\n",
        "soup = bs4.BeautifulSoup(html, 'html5lib')"
      ],
      "execution_count": null,
      "outputs": []
    },
    {
      "cell_type": "code",
      "metadata": {
        "id": "mCzvOUQ2XJXB",
        "colab_type": "code",
        "colab": {
          "base_uri": "https://localhost:8080/",
          "height": 489
        },
        "outputId": "93dbc0e9-ec50-424f-8582-2764312683ee"
      },
      "source": [
        "soup"
      ],
      "execution_count": null,
      "outputs": [
        {
          "output_type": "execute_result",
          "data": {
            "text/plain": [
              "<html><head></head><body><p>Con motivo del Día Mundial del Emoji, que se celebra este viernes, la compañía Apple ha mostrado los nuevos emojis que llegarán con la nueva versión del sistema operativo de los móviles iPhone, iOS 14.</p>\n",
              "            <ul>\n",
              "                <li>\n",
              "                    <a href=\"https://www.lavoz.com.ar/tecnologia/dia-mundial-del-emoji-cuales-son-sus-significados-segun-contexto-cultural\" target=\"_blank\">\n",
              "                    <strong>Día Mundial del Emoji: cuáles son sus significados según el contexto cultural</strong>\n",
              "                </a>\n",
              "            </li>\n",
              "        </ul>\n",
              "        <p>Concretamente, la compañía <a href=\"https://japanese.engadget.com/emoji-213255622.html\" target=\"_blank\">ha mostrado 14 nuevos emojis que llegarán a su plataforma móvil en septiembre</a> y que fueron parte de la selección aprobada en enero por el consorcio de Unicode, según ha indicado la versión japonesa de Engadget.</p>\n",
              "        <p>El consorcio Unicode mostró los emojis aprobados en enero, pero Apple les ha dado un pequeño giro para darles el aspecto distintivo de su plataforma.</p>\n",
              "        <p>Entre los nuevos símbolos de Apple se pueden encontrar los emojis de un ninja, del milkshake, un corazón y pulmones de aspecto realista, así como el emoji <em>pinched fingers</em> (\"dedos pellizcados\", en español; \"montoncito de dedos\" por acá) o \"mano italiana\", uno de los gestos más conocidos de los italianos.</p>\n",
              "        <p>\n",
              "        </p>\n",
              "        <p class=\"TextoDestacado\">La lista de nuevos emojis también incluirá el símbolo transgénero, la comida tamal, un búmeran, una moneda, un dodo, un castor e incluso una matrioshka.</p>\n",
              "        <p>Según ha afirmado el portal Emojipedia, la compañía también lanzará memojis, los avatares que los usuarios pueden crear para que se parezcan a ellos, con mascarillas faciales de diferentes colores.</p>\n",
              "        <p>Desde 2014, cada 17 de julio se celebra el Día Mundial del Emoji, los símbolos que nos permiten expresar una idea o una emoción junto con nuestro mensaje de texto y que se han convertido en elementos habituales en nuestra comunicación diaria.</p>\n",
              "        <section class=\"type:slideshow\">\n",
              "            <figure>\n",
              "                <img src=\"https://cdn.lavoz.com.ar/sites/default/files/nota_periodistica/emojis_2_1594994511.jpg\"/>\n",
              "                <figcaption>emojis_2_1594994511.jpg</figcaption>\n",
              "            </figure>\n",
              "            <figure>\n",
              "                <img src=\"https://cdn.lavoz.com.ar/sites/default/files/nota_periodistica/emojis_3_1594994511.jpg\"/>\n",
              "                <figcaption>emojis_3_1594994511.jpg</figcaption>\n",
              "            </figure>\n",
              "        </section></body></html>"
            ]
          },
          "metadata": {
            "tags": []
          },
          "execution_count": 10
        }
      ]
    },
    {
      "cell_type": "code",
      "metadata": {
        "id": "fSXZvW_VVk3k",
        "colab_type": "code",
        "colab": {
          "base_uri": "https://localhost:8080/",
          "height": 52
        },
        "outputId": "0f1c894d-5947-43b2-8994-6435f28512cf"
      },
      "source": [
        "soup.find_all('img')"
      ],
      "execution_count": null,
      "outputs": [
        {
          "output_type": "execute_result",
          "data": {
            "text/plain": [
              "[<img src=\"https://cdn.lavoz.com.ar/sites/default/files/nota_periodistica/emojis_2_1594994511.jpg\"/>,\n",
              " <img src=\"https://cdn.lavoz.com.ar/sites/default/files/nota_periodistica/emojis_3_1594994511.jpg\"/>]"
            ]
          },
          "metadata": {
            "tags": []
          },
          "execution_count": 11
        }
      ]
    },
    {
      "cell_type": "code",
      "metadata": {
        "id": "o470P8UwXZwP",
        "colab_type": "code",
        "colab": {
          "base_uri": "https://localhost:8080/",
          "height": 34
        },
        "outputId": "bfeff7c0-ac68-48b3-c632-84b553003110"
      },
      "source": [
        "soup.img"
      ],
      "execution_count": null,
      "outputs": [
        {
          "output_type": "execute_result",
          "data": {
            "text/plain": [
              "<img src=\"https://cdn.lavoz.com.ar/sites/default/files/nota_periodistica/emojis_2_1594994511.jpg\"/>"
            ]
          },
          "metadata": {
            "tags": []
          },
          "execution_count": 12
        }
      ]
    },
    {
      "cell_type": "code",
      "metadata": {
        "id": "ZYdoA6gkY-R8",
        "colab_type": "code",
        "colab": {
          "base_uri": "https://localhost:8080/",
          "height": 35
        },
        "outputId": "263bf1d9-1fa9-478e-cad3-935c674f3e2b"
      },
      "source": [
        "posts[0].content[0].get('value')\n",
        "#posts[0].content[0].get('value')\n",
        "\n",
        "\n"
      ],
      "execution_count": null,
      "outputs": [
        {
          "output_type": "execute_result",
          "data": {
            "application/vnd.google.colaboratory.intrinsic": {
              "type": "string"
            },
            "text/plain": [
              "'text/html'"
            ]
          },
          "metadata": {
            "tags": []
          },
          "execution_count": 25
        }
      ]
    },
    {
      "cell_type": "code",
      "metadata": {
        "id": "yRNV6yphL7Jp",
        "colab_type": "code",
        "colab": {
          "base_uri": "https://localhost:8080/",
          "height": 35
        },
        "outputId": "0c0e4999-8e32-4924-a37b-73e99490518a"
      },
      "source": [
        "posts[0].content[0].get('type')"
      ],
      "execution_count": null,
      "outputs": [
        {
          "output_type": "execute_result",
          "data": {
            "application/vnd.google.colaboratory.intrinsic": {
              "type": "string"
            },
            "text/plain": [
              "'text/html'"
            ]
          },
          "metadata": {
            "tags": []
          },
          "execution_count": 26
        }
      ]
    },
    {
      "cell_type": "code",
      "metadata": {
        "id": "AizRb6azL_Ag",
        "colab_type": "code",
        "colab": {
          "base_uri": "https://localhost:8080/",
          "height": 106
        },
        "outputId": "5bd2f7ad-a775-421d-96ee-53bb01dca028"
      },
      "source": [
        "posts[0].content"
      ],
      "execution_count": null,
      "outputs": [
        {
          "output_type": "execute_result",
          "data": {
            "text/plain": [
              "[{'base': 'https://www.lavoz.com.ar/rss/tecnologia.xml',\n",
              "  'language': None,\n",
              "  'type': 'text/html',\n",
              "  'value': '<p>Con motivo del Día Mundial del Emoji, que se celebra este viernes, la compañía Apple ha mostrado los nuevos emojis que llegarán con la nueva versión del sistema operativo de los móviles iPhone, iOS 14.</p>\\n            <ul>\\n                <li>\\n                    <a href=\"https://www.lavoz.com.ar/tecnologia/dia-mundial-del-emoji-cuales-son-sus-significados-segun-contexto-cultural\" target=\"_blank\">\\n                    <strong>Día Mundial del Emoji: cuáles son sus significados según el contexto cultural</strong>\\n                </a>\\n            </li>\\n        </ul>\\n        <p>Concretamente, la compañía <a href=\"https://japanese.engadget.com/emoji-213255622.html\" target=\"_blank\">ha mostrado 14 nuevos emojis que llegarán a su plataforma móvil en septiembre</a>\\xa0y que fueron parte de la selección aprobada en enero por el consorcio de Unicode, según ha indicado la versión japonesa de Engadget.</p>\\n        <p>El consorcio Unicode mostró los emojis aprobados en enero, pero Apple les ha dado un pequeño giro para darles el aspecto distintivo de su plataforma.</p>\\n        <p>Entre los nuevos símbolos de Apple se pueden encontrar los emojis de un ninja, del milkshake, un corazón y pulmones de aspecto realista, así como el emoji <em>pinched fingers</em> (\"dedos pellizcados\", en español; \"montoncito de dedos\" por acá) o \"mano italiana\", uno de los gestos más conocidos de los italianos.</p>\\n        <p>\\n        </p>\\n        <p class=\"TextoDestacado\">La lista de nuevos emojis también incluirá el símbolo transgénero, la comida tamal, un búmeran, una moneda, un dodo, un castor e incluso una matrioshka.</p>\\n        <p>Según ha afirmado el portal Emojipedia, la compañía también lanzará memojis, los avatares que los usuarios pueden crear para que se parezcan a ellos, con mascarillas faciales de diferentes colores.</p>\\n        <p>Desde 2014, cada 17 de julio se celebra el Día Mundial del Emoji, los símbolos que nos permiten expresar una idea o una emoción junto con nuestro mensaje de texto y que se han convertido en elementos habituales en nuestra comunicación diaria.</p>\\n        <section class=\"type:slideshow\">\\n            <figure>\\n                <img src=\"https://cdn.lavoz.com.ar/sites/default/files/nota_periodistica/emojis_2_1594994511.jpg\">\\n                <figcaption>emojis_2_1594994511.jpg</figcaption>\\n            </figure>\\n            <figure>\\n                <img src=\"https://cdn.lavoz.com.ar/sites/default/files/nota_periodistica/emojis_3_1594994511.jpg\">\\n                <figcaption>emojis_3_1594994511.jpg</figcaption>\\n            </figure>\\n        </section>'}]"
            ]
          },
          "metadata": {
            "tags": []
          },
          "execution_count": 33
        }
      ]
    },
    {
      "cell_type": "code",
      "metadata": {
        "id": "N7_bKQpeMKLS",
        "colab_type": "code",
        "colab": {}
      },
      "source": [
        "posts"
      ],
      "execution_count": null,
      "outputs": []
    }
  ]
}