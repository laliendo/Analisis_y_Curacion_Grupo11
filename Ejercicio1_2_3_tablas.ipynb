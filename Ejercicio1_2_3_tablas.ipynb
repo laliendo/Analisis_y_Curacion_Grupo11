{
  "nbformat": 4,
  "nbformat_minor": 0,
  "metadata": {
    "kernelspec": {
      "display_name": "Python 3",
      "language": "python",
      "name": "python3"
    },
    "language_info": {
      "codemirror_mode": {
        "name": "ipython",
        "version": 3
      },
      "file_extension": ".py",
      "mimetype": "text/x-python",
      "name": "python",
      "nbconvert_exporter": "python",
      "pygments_lexer": "ipython3",
      "version": "3.7.3"
    },
    "colab": {
      "name": "Ejercicio1-2-3 tablas.ipynb",
      "provenance": [],
      "collapsed_sections": [
        "TMjxcqET3KmU"
      ],
      "toc_visible": true
    }
  },
  "cells": [
    {
      "cell_type": "markdown",
      "metadata": {
        "id": "KEm0J_e03OrJ",
        "colab_type": "text"
      },
      "source": [
        "#Ejercicio1"
      ]
    },
    {
      "cell_type": "code",
      "metadata": {
        "id": "rnSSlgmbgT3k",
        "colab_type": "code",
        "colab": {}
      },
      "source": [
        "%matplotlib inline\n",
        "from matplotlib import pyplot as plt\n",
        "import pandas as pd\n",
        "import numpy as np"
      ],
      "execution_count": null,
      "outputs": []
    },
    {
      "cell_type": "code",
      "metadata": {
        "id": "wbdZK72pgT3_",
        "colab_type": "code",
        "colab": {}
      },
      "source": [
        "import sys\n",
        "in_colab = 'google.colab' in sys.modules\n",
        "\n",
        "if in_colab:\n",
        "  BASE_DIR = \"https://github.com/DiploDatos/AnalisisYCuracion/raw/master/\"\n",
        "else:\n",
        "  BASE_DIR = \"..\""
      ],
      "execution_count": null,
      "outputs": []
    },
    {
      "cell_type": "code",
      "metadata": {
        "id": "b1RseFM5gT4W",
        "colab_type": "code",
        "colab": {
          "base_uri": "https://localhost:8080/",
          "height": 363
        },
        "outputId": "63a256c4-ba57-436b-913a-1059a2960ab7"
      },
      "source": [
        "tabla_1 = pd.read_csv(BASE_DIR + \"/input/wtageinf.csv\")\n",
        "tabla_1.head(10)"
      ],
      "execution_count": null,
      "outputs": [
        {
          "output_type": "execute_result",
          "data": {
            "text/html": [
              "<div>\n",
              "<style scoped>\n",
              "    .dataframe tbody tr th:only-of-type {\n",
              "        vertical-align: middle;\n",
              "    }\n",
              "\n",
              "    .dataframe tbody tr th {\n",
              "        vertical-align: top;\n",
              "    }\n",
              "\n",
              "    .dataframe thead th {\n",
              "        text-align: right;\n",
              "    }\n",
              "</style>\n",
              "<table border=\"1\" class=\"dataframe\">\n",
              "  <thead>\n",
              "    <tr style=\"text-align: right;\">\n",
              "      <th></th>\n",
              "      <th>Sex</th>\n",
              "      <th>Agemos</th>\n",
              "      <th>L</th>\n",
              "      <th>M</th>\n",
              "      <th>S</th>\n",
              "      <th>P3</th>\n",
              "      <th>P5</th>\n",
              "      <th>P10</th>\n",
              "      <th>P25</th>\n",
              "      <th>P50</th>\n",
              "      <th>P75</th>\n",
              "      <th>P90</th>\n",
              "      <th>P95</th>\n",
              "      <th>P97</th>\n",
              "    </tr>\n",
              "  </thead>\n",
              "  <tbody>\n",
              "    <tr>\n",
              "      <th>0</th>\n",
              "      <td>1</td>\n",
              "      <td>0.0</td>\n",
              "      <td>1.815151</td>\n",
              "      <td>3.530203</td>\n",
              "      <td>0.152385</td>\n",
              "      <td>2.355451</td>\n",
              "      <td>2.526904</td>\n",
              "      <td>2.773802</td>\n",
              "      <td>3.150611</td>\n",
              "      <td>3.530203</td>\n",
              "      <td>3.879077</td>\n",
              "      <td>4.172493</td>\n",
              "      <td>4.340293</td>\n",
              "      <td>4.446488</td>\n",
              "    </tr>\n",
              "    <tr>\n",
              "      <th>1</th>\n",
              "      <td>1</td>\n",
              "      <td>0.5</td>\n",
              "      <td>1.547523</td>\n",
              "      <td>4.003106</td>\n",
              "      <td>0.146025</td>\n",
              "      <td>2.799549</td>\n",
              "      <td>2.964656</td>\n",
              "      <td>3.209510</td>\n",
              "      <td>3.597396</td>\n",
              "      <td>4.003106</td>\n",
              "      <td>4.387423</td>\n",
              "      <td>4.718161</td>\n",
              "      <td>4.910130</td>\n",
              "      <td>5.032625</td>\n",
              "    </tr>\n",
              "    <tr>\n",
              "      <th>2</th>\n",
              "      <td>1</td>\n",
              "      <td>1.5</td>\n",
              "      <td>1.068796</td>\n",
              "      <td>4.879525</td>\n",
              "      <td>0.136479</td>\n",
              "      <td>3.614688</td>\n",
              "      <td>3.774849</td>\n",
              "      <td>4.020561</td>\n",
              "      <td>4.428873</td>\n",
              "      <td>4.879525</td>\n",
              "      <td>5.327328</td>\n",
              "      <td>5.728153</td>\n",
              "      <td>5.967102</td>\n",
              "      <td>6.121929</td>\n",
              "    </tr>\n",
              "    <tr>\n",
              "      <th>3</th>\n",
              "      <td>1</td>\n",
              "      <td>2.5</td>\n",
              "      <td>0.695974</td>\n",
              "      <td>5.672889</td>\n",
              "      <td>0.129678</td>\n",
              "      <td>4.342341</td>\n",
              "      <td>4.503255</td>\n",
              "      <td>4.754479</td>\n",
              "      <td>5.183378</td>\n",
              "      <td>5.672889</td>\n",
              "      <td>6.175598</td>\n",
              "      <td>6.638979</td>\n",
              "      <td>6.921119</td>\n",
              "      <td>7.106250</td>\n",
              "    </tr>\n",
              "    <tr>\n",
              "      <th>4</th>\n",
              "      <td>1</td>\n",
              "      <td>3.5</td>\n",
              "      <td>0.419815</td>\n",
              "      <td>6.391392</td>\n",
              "      <td>0.124717</td>\n",
              "      <td>4.992898</td>\n",
              "      <td>5.157412</td>\n",
              "      <td>5.416803</td>\n",
              "      <td>5.866806</td>\n",
              "      <td>6.391392</td>\n",
              "      <td>6.942217</td>\n",
              "      <td>7.460702</td>\n",
              "      <td>7.781401</td>\n",
              "      <td>7.993878</td>\n",
              "    </tr>\n",
              "    <tr>\n",
              "      <th>5</th>\n",
              "      <td>1</td>\n",
              "      <td>4.5</td>\n",
              "      <td>0.219867</td>\n",
              "      <td>7.041836</td>\n",
              "      <td>0.121040</td>\n",
              "      <td>5.575169</td>\n",
              "      <td>5.744752</td>\n",
              "      <td>6.013716</td>\n",
              "      <td>6.484969</td>\n",
              "      <td>7.041836</td>\n",
              "      <td>7.635323</td>\n",
              "      <td>8.202193</td>\n",
              "      <td>8.556813</td>\n",
              "      <td>8.793444</td>\n",
              "    </tr>\n",
              "    <tr>\n",
              "      <th>6</th>\n",
              "      <td>1</td>\n",
              "      <td>5.5</td>\n",
              "      <td>0.077506</td>\n",
              "      <td>7.630425</td>\n",
              "      <td>0.118271</td>\n",
              "      <td>6.096775</td>\n",
              "      <td>6.272175</td>\n",
              "      <td>6.551379</td>\n",
              "      <td>7.043627</td>\n",
              "      <td>7.630425</td>\n",
              "      <td>8.262033</td>\n",
              "      <td>8.871384</td>\n",
              "      <td>9.255615</td>\n",
              "      <td>9.513307</td>\n",
              "    </tr>\n",
              "    <tr>\n",
              "      <th>7</th>\n",
              "      <td>1</td>\n",
              "      <td>6.5</td>\n",
              "      <td>-0.021908</td>\n",
              "      <td>8.162951</td>\n",
              "      <td>0.116154</td>\n",
              "      <td>6.564430</td>\n",
              "      <td>6.745993</td>\n",
              "      <td>7.035656</td>\n",
              "      <td>7.548346</td>\n",
              "      <td>8.162951</td>\n",
              "      <td>8.828786</td>\n",
              "      <td>9.475466</td>\n",
              "      <td>9.885436</td>\n",
              "      <td>10.161350</td>\n",
              "    </tr>\n",
              "    <tr>\n",
              "      <th>8</th>\n",
              "      <td>1</td>\n",
              "      <td>7.5</td>\n",
              "      <td>-0.089441</td>\n",
              "      <td>8.644832</td>\n",
              "      <td>0.114510</td>\n",
              "      <td>6.984123</td>\n",
              "      <td>7.171952</td>\n",
              "      <td>7.472021</td>\n",
              "      <td>8.004399</td>\n",
              "      <td>8.644832</td>\n",
              "      <td>9.341490</td>\n",
              "      <td>10.021014</td>\n",
              "      <td>10.453314</td>\n",
              "      <td>10.744924</td>\n",
              "    </tr>\n",
              "    <tr>\n",
              "      <th>9</th>\n",
              "      <td>1</td>\n",
              "      <td>8.5</td>\n",
              "      <td>-0.133409</td>\n",
              "      <td>9.081120</td>\n",
              "      <td>0.113217</td>\n",
              "      <td>7.361236</td>\n",
              "      <td>7.555287</td>\n",
              "      <td>7.865533</td>\n",
              "      <td>8.416719</td>\n",
              "      <td>9.081120</td>\n",
              "      <td>9.805593</td>\n",
              "      <td>10.514064</td>\n",
              "      <td>10.965736</td>\n",
              "      <td>11.270838</td>\n",
              "    </tr>\n",
              "  </tbody>\n",
              "</table>\n",
              "</div>"
            ],
            "text/plain": [
              "   Sex  Agemos         L         M  ...       P75        P90        P95        P97\n",
              "0    1     0.0  1.815151  3.530203  ...  3.879077   4.172493   4.340293   4.446488\n",
              "1    1     0.5  1.547523  4.003106  ...  4.387423   4.718161   4.910130   5.032625\n",
              "2    1     1.5  1.068796  4.879525  ...  5.327328   5.728153   5.967102   6.121929\n",
              "3    1     2.5  0.695974  5.672889  ...  6.175598   6.638979   6.921119   7.106250\n",
              "4    1     3.5  0.419815  6.391392  ...  6.942217   7.460702   7.781401   7.993878\n",
              "5    1     4.5  0.219867  7.041836  ...  7.635323   8.202193   8.556813   8.793444\n",
              "6    1     5.5  0.077506  7.630425  ...  8.262033   8.871384   9.255615   9.513307\n",
              "7    1     6.5 -0.021908  8.162951  ...  8.828786   9.475466   9.885436  10.161350\n",
              "8    1     7.5 -0.089441  8.644832  ...  9.341490  10.021014  10.453314  10.744924\n",
              "9    1     8.5 -0.133409  9.081120  ...  9.805593  10.514064  10.965736  11.270838\n",
              "\n",
              "[10 rows x 14 columns]"
            ]
          },
          "metadata": {
            "tags": []
          },
          "execution_count": 66
        }
      ]
    },
    {
      "cell_type": "code",
      "metadata": {
        "id": "hIJ1OW0OgT4n",
        "colab_type": "code",
        "colab": {
          "base_uri": "https://localhost:8080/",
          "height": 278
        },
        "outputId": "64f72b6b-e966-4bfc-ad3a-55d261db42fb"
      },
      "source": [
        "tabla_1.dtypes"
      ],
      "execution_count": null,
      "outputs": [
        {
          "output_type": "execute_result",
          "data": {
            "text/plain": [
              "Sex         int64\n",
              "Agemos    float64\n",
              "L         float64\n",
              "M         float64\n",
              "S         float64\n",
              "P3        float64\n",
              "P5        float64\n",
              "P10       float64\n",
              "P25       float64\n",
              "P50       float64\n",
              "P75       float64\n",
              "P90       float64\n",
              "P95       float64\n",
              "P97       float64\n",
              "dtype: object"
            ]
          },
          "metadata": {
            "tags": []
          },
          "execution_count": 67
        }
      ]
    },
    {
      "cell_type": "code",
      "metadata": {
        "id": "18rjSQVGgT44",
        "colab_type": "code",
        "colab": {
          "base_uri": "https://localhost:8080/",
          "height": 69
        },
        "outputId": "6f705e84-d95c-4d51-ef5a-d5a5a8bb9255"
      },
      "source": [
        "tabla_1.columns"
      ],
      "execution_count": null,
      "outputs": [
        {
          "output_type": "execute_result",
          "data": {
            "text/plain": [
              "Index(['Sex', 'Agemos', 'L', 'M', 'S', 'P3', 'P5', 'P10', 'P25', 'P50', 'P75',\n",
              "       'P90', 'P95', 'P97'],\n",
              "      dtype='object')"
            ]
          },
          "metadata": {
            "tags": []
          },
          "execution_count": 68
        }
      ]
    },
    {
      "cell_type": "markdown",
      "metadata": {
        "id": "PMnUkceCBRQJ",
        "colab_type": "text"
      },
      "source": [
        "https://queirozf.com/entries/pandas-dataframe-plot-examples-with-matplotlib-pyplot\n"
      ]
    },
    {
      "cell_type": "code",
      "metadata": {
        "id": "lyhuMS40gT5Q",
        "colab_type": "code",
        "colab": {
          "base_uri": "https://localhost:8080/",
          "height": 295
        },
        "outputId": "c106806b-b5e4-43b8-8bf1-0332071bc850"
      },
      "source": [
        "#Imprimimos Percentiles ninas\n",
        "filtrado= tabla_1[tabla_1.Sex==2]\n",
        "ax = plt.gca()\n",
        "filtrado.plot(x='Agemos', y='P3', title= 'Percentil-3 ninos', ax = ax);\n",
        "filtrado.plot(x='Agemos', y='P5', title= 'Percentiles ninas', ax = ax);\n",
        "filtrado.plot(x='Agemos', y='P10', title= 'Percentiles ninas', ax = ax);\n",
        "filtrado.plot(x='Agemos', y='P25', title= 'Percentiles ninas', ax = ax);\n",
        "filtrado.plot(x='Agemos', y='P50', title= 'Percentiles ninas', ax = ax);\n",
        "filtrado.plot(x='Agemos', y='P75', title= 'Percentiles ninas', ax = ax);\n",
        "plt.show()"
      ],
      "execution_count": null,
      "outputs": [
        {
          "output_type": "display_data",
          "data": {
            "image/png": "[encoded data removed]",
            "text/plain": [
              "<Figure size 432x288 with 1 Axes>"
            ]
          },
          "metadata": {
            "tags": [],
            "needs_background": "light"
          }
        }
      ]
    },
    {
      "cell_type": "code",
      "metadata": {
        "id": "SCDke8kogT5i",
        "colab_type": "code",
        "colab": {
          "base_uri": "https://localhost:8080/",
          "height": 295
        },
        "outputId": "fa3ecf83-c1ec-4c68-ffa1-dc4a7231ba38"
      },
      "source": [
        "#Imprimimos Percentiles ninas\n",
        "filtrado= tabla_1[tabla_1.Sex==1]\n",
        "ax = plt.gca()\n",
        "filtrado.plot(x='Agemos', y='P3', title= 'Percentil-3 ninos', ax = ax);\n",
        "filtrado.plot(x='Agemos', y='P5', title= 'Percentiles ninas', ax = ax);\n",
        "filtrado.plot(x='Agemos', y='P10', title= 'Percentiles ninas', ax = ax);\n",
        "filtrado.plot(x='Agemos', y='P25', title= 'Percentiles ninas', ax = ax);\n",
        "filtrado.plot(x='Agemos', y='P50', title= 'Percentiles ninas', ax = ax);\n",
        "filtrado.plot(x='Agemos', y='P75', title= 'Percentiles ninas', ax = ax);\n",
        "plt.show()"
      ],
      "execution_count": null,
      "outputs": [
        {
          "output_type": "display_data",
          "data": {
            "image/png": "[encoded data removed]",
            "text/plain": [
              "<Figure size 432x288 with 1 Axes>"
            ]
          },
          "metadata": {
            "tags": [],
            "needs_background": "light"
          }
        }
      ]
    },
    {
      "cell_type": "markdown",
      "metadata": {
        "id": "TMjxcqET3KmU",
        "colab_type": "text"
      },
      "source": [
        "#Ejercicio2"
      ]
    },
    {
      "cell_type": "code",
      "metadata": {
        "id": "45uMS-pAxZ3M",
        "colab_type": "code",
        "colab": {
          "base_uri": "https://localhost:8080/",
          "height": 365
        },
        "outputId": "f08ca9ff-6f15-4400-953d-c840fd00c5fd"
      },
      "source": [
        "import requests\n",
        "from pandas.io.json import json_normalize\n",
        "import pandas as pd\n",
        "response = consulta api\n",
        "url = \"https://github.com/DiploDatos/AnalisisYCuracion/blob/master/input/pasos.json\"\n",
        "df = pd.read_json(response)\n",
        "print(df)"
      ],
      "execution_count": null,
      "outputs": [
        {
          "output_type": "error",
          "ename": "ValueError",
          "evalue": "ignored",
          "traceback": [
            "\u001b[0;31m---------------------------------------------------------------------------\u001b[0m",
            "\u001b[0;31mValueError\u001b[0m                                Traceback (most recent call last)",
            "\u001b[0;32m<ipython-input-72-722c1ee13a7d>\u001b[0m in \u001b[0;36m<module>\u001b[0;34m()\u001b[0m\n\u001b[1;32m      4\u001b[0m \u001b[0;34m\u001b[0m\u001b[0m\n\u001b[1;32m      5\u001b[0m \u001b[0murl\u001b[0m \u001b[0;34m=\u001b[0m \u001b[0;34m\"https://github.com/DiploDatos/AnalisisYCuracion/blob/master/input/pasos.json\"\u001b[0m\u001b[0;34m\u001b[0m\u001b[0;34m\u001b[0m\u001b[0m\n\u001b[0;32m----> 6\u001b[0;31m \u001b[0mdf\u001b[0m \u001b[0;34m=\u001b[0m \u001b[0mpd\u001b[0m\u001b[0;34m.\u001b[0m\u001b[0mread_json\u001b[0m\u001b[0;34m(\u001b[0m\u001b[0murl\u001b[0m\u001b[0;34m)\u001b[0m\u001b[0;34m\u001b[0m\u001b[0;34m\u001b[0m\u001b[0m\n\u001b[0m\u001b[1;32m      7\u001b[0m \u001b[0mprint\u001b[0m\u001b[0;34m(\u001b[0m\u001b[0mdf\u001b[0m\u001b[0;34m)\u001b[0m\u001b[0;34m\u001b[0m\u001b[0;34m\u001b[0m\u001b[0m\n",
            "\u001b[0;32m/usr/local/lib/python3.6/dist-packages/pandas/util/_decorators.py\u001b[0m in \u001b[0;36mwrapper\u001b[0;34m(*args, **kwargs)\u001b[0m\n\u001b[1;32m    212\u001b[0m                 \u001b[0;32melse\u001b[0m\u001b[0;34m:\u001b[0m\u001b[0;34m\u001b[0m\u001b[0;34m\u001b[0m\u001b[0m\n\u001b[1;32m    213\u001b[0m                     \u001b[0mkwargs\u001b[0m\u001b[0;34m[\u001b[0m\u001b[0mnew_arg_name\u001b[0m\u001b[0;34m]\u001b[0m \u001b[0;34m=\u001b[0m \u001b[0mnew_arg_value\u001b[0m\u001b[0;34m\u001b[0m\u001b[0;34m\u001b[0m\u001b[0m\n\u001b[0;32m--> 214\u001b[0;31m             \u001b[0;32mreturn\u001b[0m \u001b[0mfunc\u001b[0m\u001b[0;34m(\u001b[0m\u001b[0;34m*\u001b[0m\u001b[0margs\u001b[0m\u001b[0;34m,\u001b[0m \u001b[0;34m**\u001b[0m\u001b[0mkwargs\u001b[0m\u001b[0;34m)\u001b[0m\u001b[0;34m\u001b[0m\u001b[0;34m\u001b[0m\u001b[0m\n\u001b[0m\u001b[1;32m    215\u001b[0m \u001b[0;34m\u001b[0m\u001b[0m\n\u001b[1;32m    216\u001b[0m         \u001b[0;32mreturn\u001b[0m \u001b[0mcast\u001b[0m\u001b[0;34m(\u001b[0m\u001b[0mF\u001b[0m\u001b[0;34m,\u001b[0m \u001b[0mwrapper\u001b[0m\u001b[0;34m)\u001b[0m\u001b[0;34m\u001b[0m\u001b[0;34m\u001b[0m\u001b[0m\n",
            "\u001b[0;32m/usr/local/lib/python3.6/dist-packages/pandas/io/json/_json.py\u001b[0m in \u001b[0;36mread_json\u001b[0;34m(path_or_buf, orient, typ, dtype, convert_axes, convert_dates, keep_default_dates, numpy, precise_float, date_unit, encoding, lines, chunksize, compression)\u001b[0m\n\u001b[1;32m    606\u001b[0m         \u001b[0;32mreturn\u001b[0m \u001b[0mjson_reader\u001b[0m\u001b[0;34m\u001b[0m\u001b[0;34m\u001b[0m\u001b[0m\n\u001b[1;32m    607\u001b[0m \u001b[0;34m\u001b[0m\u001b[0m\n\u001b[0;32m--> 608\u001b[0;31m     \u001b[0mresult\u001b[0m \u001b[0;34m=\u001b[0m \u001b[0mjson_reader\u001b[0m\u001b[0;34m.\u001b[0m\u001b[0mread\u001b[0m\u001b[0;34m(\u001b[0m\u001b[0;34m)\u001b[0m\u001b[0;34m\u001b[0m\u001b[0;34m\u001b[0m\u001b[0m\n\u001b[0m\u001b[1;32m    609\u001b[0m     \u001b[0;32mif\u001b[0m \u001b[0mshould_close\u001b[0m\u001b[0;34m:\u001b[0m\u001b[0;34m\u001b[0m\u001b[0;34m\u001b[0m\u001b[0m\n\u001b[1;32m    610\u001b[0m         \u001b[0mfilepath_or_buffer\u001b[0m\u001b[0;34m.\u001b[0m\u001b[0mclose\u001b[0m\u001b[0;34m(\u001b[0m\u001b[0;34m)\u001b[0m\u001b[0;34m\u001b[0m\u001b[0;34m\u001b[0m\u001b[0m\n",
            "\u001b[0;32m/usr/local/lib/python3.6/dist-packages/pandas/io/json/_json.py\u001b[0m in \u001b[0;36mread\u001b[0;34m(self)\u001b[0m\n\u001b[1;32m    729\u001b[0m             \u001b[0mobj\u001b[0m \u001b[0;34m=\u001b[0m \u001b[0mself\u001b[0m\u001b[0;34m.\u001b[0m\u001b[0m_get_object_parser\u001b[0m\u001b[0;34m(\u001b[0m\u001b[0mself\u001b[0m\u001b[0;34m.\u001b[0m\u001b[0m_combine_lines\u001b[0m\u001b[0;34m(\u001b[0m\u001b[0mdata\u001b[0m\u001b[0;34m.\u001b[0m\u001b[0msplit\u001b[0m\u001b[0;34m(\u001b[0m\u001b[0;34m\"\\n\"\u001b[0m\u001b[0;34m)\u001b[0m\u001b[0;34m)\u001b[0m\u001b[0;34m)\u001b[0m\u001b[0;34m\u001b[0m\u001b[0;34m\u001b[0m\u001b[0m\n\u001b[1;32m    730\u001b[0m         \u001b[0;32melse\u001b[0m\u001b[0;34m:\u001b[0m\u001b[0;34m\u001b[0m\u001b[0;34m\u001b[0m\u001b[0m\n\u001b[0;32m--> 731\u001b[0;31m             \u001b[0mobj\u001b[0m \u001b[0;34m=\u001b[0m \u001b[0mself\u001b[0m\u001b[0;34m.\u001b[0m\u001b[0m_get_object_parser\u001b[0m\u001b[0;34m(\u001b[0m\u001b[0mself\u001b[0m\u001b[0;34m.\u001b[0m\u001b[0mdata\u001b[0m\u001b[0;34m)\u001b[0m\u001b[0;34m\u001b[0m\u001b[0;34m\u001b[0m\u001b[0m\n\u001b[0m\u001b[1;32m    732\u001b[0m         \u001b[0mself\u001b[0m\u001b[0;34m.\u001b[0m\u001b[0mclose\u001b[0m\u001b[0;34m(\u001b[0m\u001b[0;34m)\u001b[0m\u001b[0;34m\u001b[0m\u001b[0;34m\u001b[0m\u001b[0m\n\u001b[1;32m    733\u001b[0m         \u001b[0;32mreturn\u001b[0m \u001b[0mobj\u001b[0m\u001b[0;34m\u001b[0m\u001b[0;34m\u001b[0m\u001b[0m\n",
            "\u001b[0;32m/usr/local/lib/python3.6/dist-packages/pandas/io/json/_json.py\u001b[0m in \u001b[0;36m_get_object_parser\u001b[0;34m(self, json)\u001b[0m\n\u001b[1;32m    751\u001b[0m         \u001b[0mobj\u001b[0m \u001b[0;34m=\u001b[0m \u001b[0;32mNone\u001b[0m\u001b[0;34m\u001b[0m\u001b[0;34m\u001b[0m\u001b[0m\n\u001b[1;32m    752\u001b[0m         \u001b[0;32mif\u001b[0m \u001b[0mtyp\u001b[0m \u001b[0;34m==\u001b[0m \u001b[0;34m\"frame\"\u001b[0m\u001b[0;34m:\u001b[0m\u001b[0;34m\u001b[0m\u001b[0;34m\u001b[0m\u001b[0m\n\u001b[0;32m--> 753\u001b[0;31m             \u001b[0mobj\u001b[0m \u001b[0;34m=\u001b[0m \u001b[0mFrameParser\u001b[0m\u001b[0;34m(\u001b[0m\u001b[0mjson\u001b[0m\u001b[0;34m,\u001b[0m \u001b[0;34m**\u001b[0m\u001b[0mkwargs\u001b[0m\u001b[0;34m)\u001b[0m\u001b[0;34m.\u001b[0m\u001b[0mparse\u001b[0m\u001b[0;34m(\u001b[0m\u001b[0;34m)\u001b[0m\u001b[0;34m\u001b[0m\u001b[0;34m\u001b[0m\u001b[0m\n\u001b[0m\u001b[1;32m    754\u001b[0m \u001b[0;34m\u001b[0m\u001b[0m\n\u001b[1;32m    755\u001b[0m         \u001b[0;32mif\u001b[0m \u001b[0mtyp\u001b[0m \u001b[0;34m==\u001b[0m \u001b[0;34m\"series\"\u001b[0m \u001b[0;32mor\u001b[0m \u001b[0mobj\u001b[0m \u001b[0;32mis\u001b[0m \u001b[0;32mNone\u001b[0m\u001b[0;34m:\u001b[0m\u001b[0;34m\u001b[0m\u001b[0;34m\u001b[0m\u001b[0m\n",
            "\u001b[0;32m/usr/local/lib/python3.6/dist-packages/pandas/io/json/_json.py\u001b[0m in \u001b[0;36mparse\u001b[0;34m(self)\u001b[0m\n\u001b[1;32m    855\u001b[0m \u001b[0;34m\u001b[0m\u001b[0m\n\u001b[1;32m    856\u001b[0m         \u001b[0;32melse\u001b[0m\u001b[0;34m:\u001b[0m\u001b[0;34m\u001b[0m\u001b[0;34m\u001b[0m\u001b[0m\n\u001b[0;32m--> 857\u001b[0;31m             \u001b[0mself\u001b[0m\u001b[0;34m.\u001b[0m\u001b[0m_parse_no_numpy\u001b[0m\u001b[0;34m(\u001b[0m\u001b[0;34m)\u001b[0m\u001b[0;34m\u001b[0m\u001b[0;34m\u001b[0m\u001b[0m\n\u001b[0m\u001b[1;32m    858\u001b[0m \u001b[0;34m\u001b[0m\u001b[0m\n\u001b[1;32m    859\u001b[0m         \u001b[0;32mif\u001b[0m \u001b[0mself\u001b[0m\u001b[0;34m.\u001b[0m\u001b[0mobj\u001b[0m \u001b[0;32mis\u001b[0m \u001b[0;32mNone\u001b[0m\u001b[0;34m:\u001b[0m\u001b[0;34m\u001b[0m\u001b[0;34m\u001b[0m\u001b[0m\n",
            "\u001b[0;32m/usr/local/lib/python3.6/dist-packages/pandas/io/json/_json.py\u001b[0m in \u001b[0;36m_parse_no_numpy\u001b[0;34m(self)\u001b[0m\n\u001b[1;32m   1087\u001b[0m         \u001b[0;32mif\u001b[0m \u001b[0morient\u001b[0m \u001b[0;34m==\u001b[0m \u001b[0;34m\"columns\"\u001b[0m\u001b[0;34m:\u001b[0m\u001b[0;34m\u001b[0m\u001b[0;34m\u001b[0m\u001b[0m\n\u001b[1;32m   1088\u001b[0m             self.obj = DataFrame(\n\u001b[0;32m-> 1089\u001b[0;31m                 \u001b[0mloads\u001b[0m\u001b[0;34m(\u001b[0m\u001b[0mjson\u001b[0m\u001b[0;34m,\u001b[0m \u001b[0mprecise_float\u001b[0m\u001b[0;34m=\u001b[0m\u001b[0mself\u001b[0m\u001b[0;34m.\u001b[0m\u001b[0mprecise_float\u001b[0m\u001b[0;34m)\u001b[0m\u001b[0;34m,\u001b[0m \u001b[0mdtype\u001b[0m\u001b[0;34m=\u001b[0m\u001b[0;32mNone\u001b[0m\u001b[0;34m\u001b[0m\u001b[0;34m\u001b[0m\u001b[0m\n\u001b[0m\u001b[1;32m   1090\u001b[0m             )\n\u001b[1;32m   1091\u001b[0m         \u001b[0;32melif\u001b[0m \u001b[0morient\u001b[0m \u001b[0;34m==\u001b[0m \u001b[0;34m\"split\"\u001b[0m\u001b[0;34m:\u001b[0m\u001b[0;34m\u001b[0m\u001b[0;34m\u001b[0m\u001b[0m\n",
            "\u001b[0;31mValueError\u001b[0m: Expected object or value"
          ]
        }
      ]
    },
    {
      "cell_type": "code",
      "metadata": {
        "id": "DXRObako4RBI",
        "colab_type": "code",
        "colab": {
          "base_uri": "https://localhost:8080/",
          "height": 206
        },
        "outputId": "1c6aaf7b-731a-49d1-f8d9-19b400203e1e"
      },
      "source": [
        "import pandas as pd\n",
        "#pd.read_json ('https://github.com/DiploDatos/AnalisisYCuracion/blob/master/input/pasos.json')\n",
        "url = \"https://raw.githubusercontent.com/DiploDatos/AnalisisYCuracion/master/input/pasos.json\"\n",
        "#df = pd.read_json (url, orient='records', dtype='dict')\n",
        "url\n",
        "df = pd.read_json (url)\n",
        "\n",
        "df.head() "
      ],
      "execution_count": null,
      "outputs": [
        {
          "output_type": "execute_result",
          "data": {
            "text/html": [
              "<div>\n",
              "<style scoped>\n",
              "    .dataframe tbody tr th:only-of-type {\n",
              "        vertical-align: middle;\n",
              "    }\n",
              "\n",
              "    .dataframe tbody tr th {\n",
              "        vertical-align: top;\n",
              "    }\n",
              "\n",
              "    .dataframe thead th {\n",
              "        text-align: right;\n",
              "    }\n",
              "</style>\n",
              "<table border=\"1\" class=\"dataframe\">\n",
              "  <thead>\n",
              "    <tr style=\"text-align: right;\">\n",
              "      <th></th>\n",
              "      <th>province</th>\n",
              "      <th>location</th>\n",
              "      <th>name</th>\n",
              "    </tr>\n",
              "  </thead>\n",
              "  <tbody>\n",
              "    <tr>\n",
              "      <th>0</th>\n",
              "      <td>Tierra del Fuego</td>\n",
              "      <td>[-54.832543, -68.3712885]</td>\n",
              "      <td>SAN SEBASTIAN  ( USHUAIA )</td>\n",
              "    </tr>\n",
              "    <tr>\n",
              "      <th>1</th>\n",
              "      <td>Tierra del Fuego</td>\n",
              "      <td>[-54.8249379, -68.3258626]</td>\n",
              "      <td>AERO PUBLICO DE USHUAIA</td>\n",
              "    </tr>\n",
              "    <tr>\n",
              "      <th>2</th>\n",
              "      <td>Tierra del Fuego</td>\n",
              "      <td>[-54.8096728, -68.3114748]</td>\n",
              "      <td>PUERTO USHUAIA (PREFECTURA)</td>\n",
              "    </tr>\n",
              "    <tr>\n",
              "      <th>3</th>\n",
              "      <td>Tierra del Fuego</td>\n",
              "      <td>[-54.8019121, -68.3029511]</td>\n",
              "      <td>PUERTO USHUAIA</td>\n",
              "    </tr>\n",
              "    <tr>\n",
              "      <th>4</th>\n",
              "      <td>Santa Cruz</td>\n",
              "      <td>[-51.6896359, -72.2993574]</td>\n",
              "      <td>PASO LAURITA CASAS VIEJAS</td>\n",
              "    </tr>\n",
              "  </tbody>\n",
              "</table>\n",
              "</div>"
            ],
            "text/plain": [
              "           province                    location                         name\n",
              "0  Tierra del Fuego   [-54.832543, -68.3712885]   SAN SEBASTIAN  ( USHUAIA )\n",
              "1  Tierra del Fuego  [-54.8249379, -68.3258626]      AERO PUBLICO DE USHUAIA\n",
              "2  Tierra del Fuego  [-54.8096728, -68.3114748]  PUERTO USHUAIA (PREFECTURA)\n",
              "3  Tierra del Fuego  [-54.8019121, -68.3029511]               PUERTO USHUAIA\n",
              "4        Santa Cruz  [-51.6896359, -72.2993574]    PASO LAURITA CASAS VIEJAS"
            ]
          },
          "metadata": {
            "tags": []
          },
          "execution_count": 80
        }
      ]
    },
    {
      "cell_type": "code",
      "metadata": {
        "id": "Z0Q_J0NBXbYe",
        "colab_type": "code",
        "colab": {
          "base_uri": "https://localhost:8080/",
          "height": 752
        },
        "outputId": "16e5e40e-1617-479d-dd6b-58e9d05e3eac"
      },
      "source": [
        "import seaborn as sns\n",
        "plt.figure(figsize=(10,6))\n",
        "sns.countplot(data=df,color='BLUE', x='province')\n",
        "plt.xticks(rotation=90)\n",
        "plt.title(\"Cantidad de ciudades por provincia\")"
      ],
      "execution_count": null,
      "outputs": [
        {
          "output_type": "execute_result",
          "data": {
            "text/plain": [
              "Text(0.5, 1.0, 'Cantidad de ciudades por provincia')"
            ]
          },
          "metadata": {
            "tags": []
          },
          "execution_count": 93
        },
        {
          "output_type": "display_data",
          "data": {
            "image/png": "[encoded data removed]",
            "text/plain": [
              "<Figure size 720x432 with 1 Axes>"
            ]
          },
          "metadata": {
            "tags": [],
            "needs_background": "light"
          }
        }
      ]
    },
    {
      "cell_type": "markdown",
      "metadata": {
        "id": "UZk8MfMq3D29",
        "colab_type": "text"
      },
      "source": [
        "#Ejercicio3\n"
      ]
    },
    {
      "cell_type": "markdown",
      "metadata": {
        "id": "W8SLBAtd5Eot",
        "colab_type": "text"
      },
      "source": [
        "ver edgeList vs adjMatrix vs adjList\n",
        "\n",
        "https://visualgo.net/en/graphds\n",
        "\n",
        "\n",
        "https://algocoding.wordpress.com/2014/08/25/form-the-adjacency-matrix-and-adjacency-lists-from-the-edges/\n"
      ]
    },
    {
      "cell_type": "code",
      "metadata": {
        "id": "JhATIVXf3DEd",
        "colab_type": "code",
        "colab": {
          "base_uri": "https://localhost:8080/",
          "height": 34
        },
        "outputId": "210074fa-dddc-41cf-e910-cdcb60a8aea9"
      },
      "source": [
        "edgeList = [[0,2], [1,3], [2,3], [2,4], [3,5], [4,5],];\n",
        "edgeList"
      ],
      "execution_count": null,
      "outputs": [
        {
          "output_type": "execute_result",
          "data": {
            "text/plain": [
              "[[0, 2], [1, 3], [2, 3], [2, 4], [3, 5], [4, 5]]"
            ]
          },
          "metadata": {
            "tags": []
          },
          "execution_count": 95
        }
      ]
    },
    {
      "cell_type": "code",
      "metadata": {
        "id": "1qNxanAp6sr0",
        "colab_type": "code",
        "colab": {
          "base_uri": "https://localhost:8080/",
          "height": 34
        },
        "outputId": "8c372058-f989-4188-f719-6299a183061f"
      },
      "source": [
        "edge_u = []\n",
        "edge_v = []\n",
        "\n",
        "#edge_u.append(edge_u[0])\n",
        "for i in range(len(edgeList)):\n",
        "    edge_u.insert(i,edgeList[i][0])\n",
        "    edge_v.insert(i,edgeList[i][1])\n",
        "\n",
        "edge_u, edge_v"
      ],
      "execution_count": null,
      "outputs": [
        {
          "output_type": "execute_result",
          "data": {
            "text/plain": [
              "([0, 1, 2, 2, 3, 4], [2, 3, 3, 4, 5, 5])"
            ]
          },
          "metadata": {
            "tags": []
          },
          "execution_count": 124
        }
      ]
    },
    {
      "cell_type": "code",
      "metadata": {
        "id": "R2rdmP_x7QDD",
        "colab_type": "code",
        "colab": {}
      },
      "source": [
        "def printMatrix(matrix):\n",
        "    for i in range(len(matrix)):\n",
        "        for k in range(len(matrix[0])):\n",
        "            print(matrix[i][k], \" \", end='')\n",
        "        print('')"
      ],
      "execution_count": null,
      "outputs": []
    },
    {
      "cell_type": "code",
      "metadata": {
        "id": "bxF9dm0h-X49",
        "colab_type": "code",
        "colab": {
          "base_uri": "https://localhost:8080/",
          "height": 121
        },
        "outputId": "4adf6a8e-f2dc-449a-b08e-f57531e87a78"
      },
      "source": [
        "n = 6\n",
        "adjMatrix = [[0 for i in range(n)] for k in range(n)]\n",
        "adjMatrix\n"
      ],
      "execution_count": null,
      "outputs": [
        {
          "output_type": "execute_result",
          "data": {
            "text/plain": [
              "[[0, 0, 0, 0, 0, 0],\n",
              " [0, 0, 0, 0, 0, 0],\n",
              " [0, 0, 0, 0, 0, 0],\n",
              " [0, 0, 0, 0, 0, 0],\n",
              " [0, 0, 0, 0, 0, 0],\n",
              " [0, 0, 0, 0, 0, 0]]"
            ]
          },
          "metadata": {
            "tags": []
          },
          "execution_count": 152
        }
      ]
    },
    {
      "cell_type": "code",
      "metadata": {
        "id": "R-VUxQik-r9q",
        "colab_type": "code",
        "colab": {}
      },
      "source": [
        "for i in range(len(edge_u)):\n",
        "        u = edge_u[i]\n",
        "        v = edge_v[i]  \n",
        "        adjMatrix[u][v] = 1"
      ],
      "execution_count": null,
      "outputs": []
    },
    {
      "cell_type": "code",
      "metadata": {
        "id": "Zh9EJuHK_L04",
        "colab_type": "code",
        "colab": {
          "base_uri": "https://localhost:8080/",
          "height": 139
        },
        "outputId": "3b0ee72d-253b-4071-c04c-ae8931a985bd"
      },
      "source": [
        "print(\"Adjacency matrix: \")\n",
        "printMatrix(adjMatrix)"
      ],
      "execution_count": null,
      "outputs": [
        {
          "output_type": "stream",
          "text": [
            "Adjacency matrix: \n",
            "0  0  1  0  0  0  \n",
            "0  0  0  1  0  0  \n",
            "0  0  0  1  1  0  \n",
            "0  0  0  0  0  1  \n",
            "0  0  0  0  0  1  \n",
            "0  0  0  0  0  0  \n"
          ],
          "name": "stdout"
        }
      ]
    },
    {
      "cell_type": "code",
      "metadata": {
        "id": "imgQBOIA_48b",
        "colab_type": "code",
        "colab": {}
      },
      "source": [
        "def printAdjList(adjList):\n",
        "    for i in range(len(adjList)):\n",
        "        print(i, \":\", adjList[i])"
      ],
      "execution_count": null,
      "outputs": []
    },
    {
      "cell_type": "code",
      "metadata": {
        "id": "k6smIOVc_6Uv",
        "colab_type": "code",
        "colab": {
          "base_uri": "https://localhost:8080/",
          "height": 34
        },
        "outputId": "30646b01-45e2-4c29-f32d-1e635caeb541"
      },
      "source": [
        "n = 6\n",
        "adjList = [[] for k in range(n)]\n",
        "adjList"
      ],
      "execution_count": null,
      "outputs": [
        {
          "output_type": "execute_result",
          "data": {
            "text/plain": [
              "[[], [], [], [], [], []]"
            ]
          },
          "metadata": {
            "tags": []
          },
          "execution_count": 160
        }
      ]
    },
    {
      "cell_type": "code",
      "metadata": {
        "id": "LIO5PgHmAFLG",
        "colab_type": "code",
        "colab": {
          "base_uri": "https://localhost:8080/",
          "height": 139
        },
        "outputId": "d1da1005-9298-4f01-906d-0484197b03ba"
      },
      "source": [
        "for i in range(len(edge_u)):\n",
        "        u = edge_u[i]\n",
        "        v = edge_v[i]\n",
        "        adjList[u].append(v)\n",
        "\n",
        "print(\"Adjacency list: \")\n",
        "printAdjList(adjList)"
      ],
      "execution_count": null,
      "outputs": [
        {
          "output_type": "stream",
          "text": [
            "Adjacency list: \n",
            "0 : [2]\n",
            "1 : [3]\n",
            "2 : [3, 4]\n",
            "3 : [5]\n",
            "4 : [5]\n",
            "5 : []\n"
          ],
          "name": "stdout"
        }
      ]
    }
  ]
}